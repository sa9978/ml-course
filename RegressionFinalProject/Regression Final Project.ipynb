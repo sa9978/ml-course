{
 "cells": [
  {
   "cell_type": "code",
   "execution_count": 1,
   "metadata": {
    "collapsed": true
   },
   "outputs": [],
   "source": [
    "import pandas as pd\n",
    "import numpy as np\n",
    "import matplotlib.pyplot as plt"
   ]
  },
  {
   "cell_type": "code",
   "execution_count": 2,
   "outputs": [
    {
     "data": {
      "text/plain": "  Area  Room  Parking  Warehouse  Elevator         Address         Price  \\\n0   63     1     True       True      True         Shahran  1.850000e+09   \n1   60     1     True       True      True         Shahran  1.850000e+09   \n2   79     2     True       True      True          Pardis  5.500000e+08   \n3   95     2     True       True      True   Shahrake Qods  9.025000e+08   \n4  123     2     True       True      True  Shahrake Gharb  7.000000e+09   \n\n   Price(USD)  \n0    61666.67  \n1    61666.67  \n2    18333.33  \n3    30083.33  \n4   233333.33  ",
      "text/html": "<div>\n<style scoped>\n    .dataframe tbody tr th:only-of-type {\n        vertical-align: middle;\n    }\n\n    .dataframe tbody tr th {\n        vertical-align: top;\n    }\n\n    .dataframe thead th {\n        text-align: right;\n    }\n</style>\n<table border=\"1\" class=\"dataframe\">\n  <thead>\n    <tr style=\"text-align: right;\">\n      <th></th>\n      <th>Area</th>\n      <th>Room</th>\n      <th>Parking</th>\n      <th>Warehouse</th>\n      <th>Elevator</th>\n      <th>Address</th>\n      <th>Price</th>\n      <th>Price(USD)</th>\n    </tr>\n  </thead>\n  <tbody>\n    <tr>\n      <th>0</th>\n      <td>63</td>\n      <td>1</td>\n      <td>True</td>\n      <td>True</td>\n      <td>True</td>\n      <td>Shahran</td>\n      <td>1.850000e+09</td>\n      <td>61666.67</td>\n    </tr>\n    <tr>\n      <th>1</th>\n      <td>60</td>\n      <td>1</td>\n      <td>True</td>\n      <td>True</td>\n      <td>True</td>\n      <td>Shahran</td>\n      <td>1.850000e+09</td>\n      <td>61666.67</td>\n    </tr>\n    <tr>\n      <th>2</th>\n      <td>79</td>\n      <td>2</td>\n      <td>True</td>\n      <td>True</td>\n      <td>True</td>\n      <td>Pardis</td>\n      <td>5.500000e+08</td>\n      <td>18333.33</td>\n    </tr>\n    <tr>\n      <th>3</th>\n      <td>95</td>\n      <td>2</td>\n      <td>True</td>\n      <td>True</td>\n      <td>True</td>\n      <td>Shahrake Qods</td>\n      <td>9.025000e+08</td>\n      <td>30083.33</td>\n    </tr>\n    <tr>\n      <th>4</th>\n      <td>123</td>\n      <td>2</td>\n      <td>True</td>\n      <td>True</td>\n      <td>True</td>\n      <td>Shahrake Gharb</td>\n      <td>7.000000e+09</td>\n      <td>233333.33</td>\n    </tr>\n  </tbody>\n</table>\n</div>"
     },
     "execution_count": 2,
     "metadata": {},
     "output_type": "execute_result"
    }
   ],
   "source": [
    "data = pd.read_csv('housePrice.csv')\n",
    "data.head()"
   ],
   "metadata": {
    "collapsed": false,
    "pycharm": {
     "name": "#%%\n"
    }
   }
  },
  {
   "cell_type": "code",
   "execution_count": 3,
   "outputs": [
    {
     "data": {
      "text/plain": "              Room         Price    Price(USD)\ncount  3479.000000  3.479000e+03  3.479000e+03\nmean      2.079908  5.359023e+09  1.786341e+05\nstd       0.758275  8.099935e+09  2.699978e+05\nmin       0.000000  3.600000e+06  1.200000e+02\n25%       2.000000  1.418250e+09  4.727500e+04\n50%       2.000000  2.900000e+09  9.666667e+04\n75%       2.000000  6.000000e+09  2.000000e+05\nmax       5.000000  9.240000e+10  3.080000e+06",
      "text/html": "<div>\n<style scoped>\n    .dataframe tbody tr th:only-of-type {\n        vertical-align: middle;\n    }\n\n    .dataframe tbody tr th {\n        vertical-align: top;\n    }\n\n    .dataframe thead th {\n        text-align: right;\n    }\n</style>\n<table border=\"1\" class=\"dataframe\">\n  <thead>\n    <tr style=\"text-align: right;\">\n      <th></th>\n      <th>Room</th>\n      <th>Price</th>\n      <th>Price(USD)</th>\n    </tr>\n  </thead>\n  <tbody>\n    <tr>\n      <th>count</th>\n      <td>3479.000000</td>\n      <td>3.479000e+03</td>\n      <td>3.479000e+03</td>\n    </tr>\n    <tr>\n      <th>mean</th>\n      <td>2.079908</td>\n      <td>5.359023e+09</td>\n      <td>1.786341e+05</td>\n    </tr>\n    <tr>\n      <th>std</th>\n      <td>0.758275</td>\n      <td>8.099935e+09</td>\n      <td>2.699978e+05</td>\n    </tr>\n    <tr>\n      <th>min</th>\n      <td>0.000000</td>\n      <td>3.600000e+06</td>\n      <td>1.200000e+02</td>\n    </tr>\n    <tr>\n      <th>25%</th>\n      <td>2.000000</td>\n      <td>1.418250e+09</td>\n      <td>4.727500e+04</td>\n    </tr>\n    <tr>\n      <th>50%</th>\n      <td>2.000000</td>\n      <td>2.900000e+09</td>\n      <td>9.666667e+04</td>\n    </tr>\n    <tr>\n      <th>75%</th>\n      <td>2.000000</td>\n      <td>6.000000e+09</td>\n      <td>2.000000e+05</td>\n    </tr>\n    <tr>\n      <th>max</th>\n      <td>5.000000</td>\n      <td>9.240000e+10</td>\n      <td>3.080000e+06</td>\n    </tr>\n  </tbody>\n</table>\n</div>"
     },
     "execution_count": 3,
     "metadata": {},
     "output_type": "execute_result"
    }
   ],
   "source": [
    "data.describe()"
   ],
   "metadata": {
    "collapsed": false,
    "pycharm": {
     "name": "#%%\n"
    }
   }
  },
  {
   "cell_type": "code",
   "execution_count": 4,
   "outputs": [
    {
     "data": {
      "text/plain": "              Area         Room      Parking    Warehouse     Elevator  \\\ncount  3450.000000  3450.000000  3450.000000  3450.000000  3450.000000   \nmean    106.917391     2.081159     0.847536     0.915072     0.787536   \nstd      69.550976     0.760216     0.359522     0.278814     0.409111   \nmin      30.000000     0.000000     0.000000     0.000000     0.000000   \n25%      69.000000     2.000000     1.000000     1.000000     1.000000   \n50%      90.000000     2.000000     1.000000     1.000000     1.000000   \n75%     120.000000     2.000000     1.000000     1.000000     1.000000   \nmax     929.000000     5.000000     1.000000     1.000000     1.000000   \n\n              Price    Price(USD)  \ncount  3.450000e+03  3.450000e+03  \nmean   5.375563e+09  1.791854e+05  \nstd    8.125918e+09  2.708639e+05  \nmin    3.600000e+06  1.200000e+02  \n25%    1.419250e+09  4.730833e+04  \n50%    2.900000e+09  9.666667e+04  \n75%    6.000000e+09  2.000000e+05  \nmax    9.240000e+10  3.080000e+06  ",
      "text/html": "<div>\n<style scoped>\n    .dataframe tbody tr th:only-of-type {\n        vertical-align: middle;\n    }\n\n    .dataframe tbody tr th {\n        vertical-align: top;\n    }\n\n    .dataframe thead th {\n        text-align: right;\n    }\n</style>\n<table border=\"1\" class=\"dataframe\">\n  <thead>\n    <tr style=\"text-align: right;\">\n      <th></th>\n      <th>Area</th>\n      <th>Room</th>\n      <th>Parking</th>\n      <th>Warehouse</th>\n      <th>Elevator</th>\n      <th>Price</th>\n      <th>Price(USD)</th>\n    </tr>\n  </thead>\n  <tbody>\n    <tr>\n      <th>count</th>\n      <td>3450.000000</td>\n      <td>3450.000000</td>\n      <td>3450.000000</td>\n      <td>3450.000000</td>\n      <td>3450.000000</td>\n      <td>3.450000e+03</td>\n      <td>3.450000e+03</td>\n    </tr>\n    <tr>\n      <th>mean</th>\n      <td>106.917391</td>\n      <td>2.081159</td>\n      <td>0.847536</td>\n      <td>0.915072</td>\n      <td>0.787536</td>\n      <td>5.375563e+09</td>\n      <td>1.791854e+05</td>\n    </tr>\n    <tr>\n      <th>std</th>\n      <td>69.550976</td>\n      <td>0.760216</td>\n      <td>0.359522</td>\n      <td>0.278814</td>\n      <td>0.409111</td>\n      <td>8.125918e+09</td>\n      <td>2.708639e+05</td>\n    </tr>\n    <tr>\n      <th>min</th>\n      <td>30.000000</td>\n      <td>0.000000</td>\n      <td>0.000000</td>\n      <td>0.000000</td>\n      <td>0.000000</td>\n      <td>3.600000e+06</td>\n      <td>1.200000e+02</td>\n    </tr>\n    <tr>\n      <th>25%</th>\n      <td>69.000000</td>\n      <td>2.000000</td>\n      <td>1.000000</td>\n      <td>1.000000</td>\n      <td>1.000000</td>\n      <td>1.419250e+09</td>\n      <td>4.730833e+04</td>\n    </tr>\n    <tr>\n      <th>50%</th>\n      <td>90.000000</td>\n      <td>2.000000</td>\n      <td>1.000000</td>\n      <td>1.000000</td>\n      <td>1.000000</td>\n      <td>2.900000e+09</td>\n      <td>9.666667e+04</td>\n    </tr>\n    <tr>\n      <th>75%</th>\n      <td>120.000000</td>\n      <td>2.000000</td>\n      <td>1.000000</td>\n      <td>1.000000</td>\n      <td>1.000000</td>\n      <td>6.000000e+09</td>\n      <td>2.000000e+05</td>\n    </tr>\n    <tr>\n      <th>max</th>\n      <td>929.000000</td>\n      <td>5.000000</td>\n      <td>1.000000</td>\n      <td>1.000000</td>\n      <td>1.000000</td>\n      <td>9.240000e+10</td>\n      <td>3.080000e+06</td>\n    </tr>\n  </tbody>\n</table>\n</div>"
     },
     "execution_count": 4,
     "metadata": {},
     "output_type": "execute_result"
    }
   ],
   "source": [
    "data['Area'] = pd.to_numeric(data['Area'], errors='coerce')\n",
    "data['Room'] = pd.to_numeric(data['Room'], errors='coerce')\n",
    "mask = {\n",
    "    \"True\": 1,\n",
    "    \"False\": 0,\n",
    "    True: 1,\n",
    "    False: 0\n",
    "}\n",
    "data['Parking'] = data['Parking'].map(mask)\n",
    "data['Warehouse'] = data['Warehouse'].map(mask, na_action=None)\n",
    "data['Elevator'] = data['Elevator'].map(mask, na_action=None)\n",
    "data = data.dropna()\n",
    "data.describe()"
   ],
   "metadata": {
    "collapsed": false,
    "pycharm": {
     "name": "#%%\n"
    }
   }
  },
  {
   "cell_type": "code",
   "execution_count": 5,
   "outputs": [
    {
     "name": "stdout",
     "output_type": "stream",
     "text": [
      "400.0\n"
     ]
    }
   ],
   "source": [
    "max_area = data['Area'].quantile(0.99)\n",
    "print(max_area)\n",
    "for index, row in data.iterrows():\n",
    "    if row['Area'] > max_area:\n",
    "        data.drop(index, inplace=True)"
   ],
   "metadata": {
    "collapsed": false,
    "pycharm": {
     "name": "#%%\n"
    }
   }
  },
  {
   "cell_type": "code",
   "execution_count": 6,
   "outputs": [
    {
     "data": {
      "text/plain": "    Area  Room  Parking  Warehouse  Elevator         Address         Price  \\\n0   63.0     1        1          1         1         Shahran  1.850000e+09   \n1   60.0     1        1          1         1         Shahran  1.850000e+09   \n2   79.0     2        1          1         1          Pardis  5.500000e+08   \n3   95.0     2        1          1         1   Shahrake Qods  9.025000e+08   \n4  123.0     2        1          1         1  Shahrake Gharb  7.000000e+09   \n\n   Price(USD)  \n0    61666.67  \n1    61666.67  \n2    18333.33  \n3    30083.33  \n4   233333.33  ",
      "text/html": "<div>\n<style scoped>\n    .dataframe tbody tr th:only-of-type {\n        vertical-align: middle;\n    }\n\n    .dataframe tbody tr th {\n        vertical-align: top;\n    }\n\n    .dataframe thead th {\n        text-align: right;\n    }\n</style>\n<table border=\"1\" class=\"dataframe\">\n  <thead>\n    <tr style=\"text-align: right;\">\n      <th></th>\n      <th>Area</th>\n      <th>Room</th>\n      <th>Parking</th>\n      <th>Warehouse</th>\n      <th>Elevator</th>\n      <th>Address</th>\n      <th>Price</th>\n      <th>Price(USD)</th>\n    </tr>\n  </thead>\n  <tbody>\n    <tr>\n      <th>0</th>\n      <td>63.0</td>\n      <td>1</td>\n      <td>1</td>\n      <td>1</td>\n      <td>1</td>\n      <td>Shahran</td>\n      <td>1.850000e+09</td>\n      <td>61666.67</td>\n    </tr>\n    <tr>\n      <th>1</th>\n      <td>60.0</td>\n      <td>1</td>\n      <td>1</td>\n      <td>1</td>\n      <td>1</td>\n      <td>Shahran</td>\n      <td>1.850000e+09</td>\n      <td>61666.67</td>\n    </tr>\n    <tr>\n      <th>2</th>\n      <td>79.0</td>\n      <td>2</td>\n      <td>1</td>\n      <td>1</td>\n      <td>1</td>\n      <td>Pardis</td>\n      <td>5.500000e+08</td>\n      <td>18333.33</td>\n    </tr>\n    <tr>\n      <th>3</th>\n      <td>95.0</td>\n      <td>2</td>\n      <td>1</td>\n      <td>1</td>\n      <td>1</td>\n      <td>Shahrake Qods</td>\n      <td>9.025000e+08</td>\n      <td>30083.33</td>\n    </tr>\n    <tr>\n      <th>4</th>\n      <td>123.0</td>\n      <td>2</td>\n      <td>1</td>\n      <td>1</td>\n      <td>1</td>\n      <td>Shahrake Gharb</td>\n      <td>7.000000e+09</td>\n      <td>233333.33</td>\n    </tr>\n  </tbody>\n</table>\n</div>"
     },
     "execution_count": 6,
     "metadata": {},
     "output_type": "execute_result"
    }
   ],
   "source": [
    "data.head()"
   ],
   "metadata": {
    "collapsed": false,
    "pycharm": {
     "name": "#%%\n"
    }
   }
  },
  {
   "cell_type": "code",
   "execution_count": 7,
   "outputs": [
    {
     "data": {
      "text/plain": "              Area         Room      Parking    Warehouse     Elevator  \\\ncount  3419.000000  3419.000000  3419.000000  3419.000000  3419.000000   \nmean    102.593156     2.068149     0.847031     0.916057     0.792629   \nstd      50.993859     0.739095     0.360010     0.277342     0.405483   \nmin      30.000000     0.000000     0.000000     0.000000     0.000000   \n25%      68.000000     2.000000     1.000000     1.000000     1.000000   \n50%      90.000000     2.000000     1.000000     1.000000     1.000000   \n75%     120.000000     2.000000     1.000000     1.000000     1.000000   \nmax     400.000000     5.000000     1.000000     1.000000     1.000000   \n\n              Price    Price(USD)  \ncount  3.419000e+03  3.419000e+03  \nmean   5.140278e+09  1.713426e+05  \nstd    7.119198e+09  2.373066e+05  \nmin    3.600000e+06  1.200000e+02  \n25%    1.400000e+09  4.666667e+04  \n50%    2.850000e+09  9.500000e+04  \n75%    6.000000e+09  2.000000e+05  \nmax    8.500000e+10  2.833333e+06  ",
      "text/html": "<div>\n<style scoped>\n    .dataframe tbody tr th:only-of-type {\n        vertical-align: middle;\n    }\n\n    .dataframe tbody tr th {\n        vertical-align: top;\n    }\n\n    .dataframe thead th {\n        text-align: right;\n    }\n</style>\n<table border=\"1\" class=\"dataframe\">\n  <thead>\n    <tr style=\"text-align: right;\">\n      <th></th>\n      <th>Area</th>\n      <th>Room</th>\n      <th>Parking</th>\n      <th>Warehouse</th>\n      <th>Elevator</th>\n      <th>Price</th>\n      <th>Price(USD)</th>\n    </tr>\n  </thead>\n  <tbody>\n    <tr>\n      <th>count</th>\n      <td>3419.000000</td>\n      <td>3419.000000</td>\n      <td>3419.000000</td>\n      <td>3419.000000</td>\n      <td>3419.000000</td>\n      <td>3.419000e+03</td>\n      <td>3.419000e+03</td>\n    </tr>\n    <tr>\n      <th>mean</th>\n      <td>102.593156</td>\n      <td>2.068149</td>\n      <td>0.847031</td>\n      <td>0.916057</td>\n      <td>0.792629</td>\n      <td>5.140278e+09</td>\n      <td>1.713426e+05</td>\n    </tr>\n    <tr>\n      <th>std</th>\n      <td>50.993859</td>\n      <td>0.739095</td>\n      <td>0.360010</td>\n      <td>0.277342</td>\n      <td>0.405483</td>\n      <td>7.119198e+09</td>\n      <td>2.373066e+05</td>\n    </tr>\n    <tr>\n      <th>min</th>\n      <td>30.000000</td>\n      <td>0.000000</td>\n      <td>0.000000</td>\n      <td>0.000000</td>\n      <td>0.000000</td>\n      <td>3.600000e+06</td>\n      <td>1.200000e+02</td>\n    </tr>\n    <tr>\n      <th>25%</th>\n      <td>68.000000</td>\n      <td>2.000000</td>\n      <td>1.000000</td>\n      <td>1.000000</td>\n      <td>1.000000</td>\n      <td>1.400000e+09</td>\n      <td>4.666667e+04</td>\n    </tr>\n    <tr>\n      <th>50%</th>\n      <td>90.000000</td>\n      <td>2.000000</td>\n      <td>1.000000</td>\n      <td>1.000000</td>\n      <td>1.000000</td>\n      <td>2.850000e+09</td>\n      <td>9.500000e+04</td>\n    </tr>\n    <tr>\n      <th>75%</th>\n      <td>120.000000</td>\n      <td>2.000000</td>\n      <td>1.000000</td>\n      <td>1.000000</td>\n      <td>1.000000</td>\n      <td>6.000000e+09</td>\n      <td>2.000000e+05</td>\n    </tr>\n    <tr>\n      <th>max</th>\n      <td>400.000000</td>\n      <td>5.000000</td>\n      <td>1.000000</td>\n      <td>1.000000</td>\n      <td>1.000000</td>\n      <td>8.500000e+10</td>\n      <td>2.833333e+06</td>\n    </tr>\n  </tbody>\n</table>\n</div>"
     },
     "execution_count": 7,
     "metadata": {},
     "output_type": "execute_result"
    }
   ],
   "source": [
    "data.describe()"
   ],
   "metadata": {
    "collapsed": false,
    "pycharm": {
     "name": "#%%\n"
    }
   }
  },
  {
   "cell_type": "code",
   "execution_count": 8,
   "outputs": [
    {
     "data": {
      "text/plain": "[]"
     },
     "execution_count": 8,
     "metadata": {},
     "output_type": "execute_result"
    },
    {
     "data": {
      "text/plain": "<Figure size 720x720 with 9 Axes>",
      "image/png": "[encoded data removed]"
     },
     "metadata": {
      "needs_background": "light"
     },
     "output_type": "display_data"
    }
   ],
   "source": [
    "data.hist(figsize=(10, 10))\n",
    "plt.plot()"
   ],
   "metadata": {
    "collapsed": false,
    "pycharm": {
     "name": "#%%\n"
    }
   }
  },
  {
   "cell_type": "code",
   "execution_count": 9,
   "outputs": [
    {
     "name": "stdout",
     "output_type": "stream",
     "text": [
      "x train count 2735\n",
      "y train count 2735\n",
      "x test count 684\n",
      "y test count 684\n"
     ]
    }
   ],
   "source": [
    "from sklearn.model_selection import train_test_split\n",
    "\n",
    "X = data[['Area', 'Room', 'Parking', 'Warehouse', 'Elevator']]\n",
    "Y = data[['Price(USD)']]\n",
    "X_train, X_test, y_train, y_test = train_test_split(X, Y, test_size=0.2, random_state=42)\n",
    "print(\"x train count\", len(X_train))\n",
    "print(\"y train count\", len(y_train))\n",
    "print(\"x test count\", len(X_test))\n",
    "print(\"y test count\", len(y_test))"
   ],
   "metadata": {
    "collapsed": false,
    "pycharm": {
     "name": "#%%\n"
    }
   }
  },
  {
   "cell_type": "code",
   "execution_count": 10,
   "outputs": [
    {
     "name": "stdout",
     "output_type": "stream",
     "text": [
      "coef: [[  4361.57924969 -53732.45921481  -4758.31966783  25014.3146729\n",
      "   13562.59376721]]\n",
      "intercept: [-194361.26242181]\n"
     ]
    }
   ],
   "source": [
    "from sklearn import linear_model\n",
    "\n",
    "reg = linear_model.LinearRegression()\n",
    "reg.fit(X_train, y_train)\n",
    "print(\"coef:\", reg.coef_)\n",
    "print(\"intercept:\", reg.intercept_)"
   ],
   "metadata": {
    "collapsed": false,
    "pycharm": {
     "name": "#%%\n"
    }
   }
  },
  {
   "cell_type": "code",
   "execution_count": 11,
   "outputs": [
    {
     "data": {
      "text/plain": "<Figure size 432x288 with 1 Axes>",
      "image/png": "[encoded data removed]"
     },
     "metadata": {
      "needs_background": "light"
     },
     "output_type": "display_data"
    }
   ],
   "source": [
    "x = np.arange(min(data['Price(USD)']), max(data['Price(USD)']), 0.1)\n",
    "y = reg.intercept_[0] + reg.coef_[0][0] * x + reg.coef_[0][1] * pow(x, 2) + reg.coef_[0][2] * pow(x, 3) + reg.coef_[0][3] * pow(x, 4) + reg.coef_[0][4] * pow(x, 5)\n",
    "plt.plot(x, y, color='blue')\n",
    "plt.show()"
   ],
   "metadata": {
    "collapsed": false,
    "pycharm": {
     "name": "#%%\n"
    }
   }
  },
  {
   "cell_type": "code",
   "execution_count": 12,
   "outputs": [
    {
     "name": "stdout",
     "output_type": "stream",
     "text": [
      "score: 0.6475130120229888\n"
     ]
    }
   ],
   "source": [
    "from sklearn.metrics import r2_score\n",
    "\n",
    "y_test_ = reg.predict(X_test)\n",
    "score = r2_score(y_test, y_test_)\n",
    "print(\"score:\", score)"
   ],
   "metadata": {
    "collapsed": false,
    "pycharm": {
     "name": "#%%\n"
    }
   }
  }
 ],
 "metadata": {
  "kernelspec": {
   "display_name": "Python 3",
   "language": "python",
   "name": "python3"
  },
  "language_info": {
   "codemirror_mode": {
    "name": "ipython",
    "version": 2
   },
   "file_extension": ".py",
   "mimetype": "text/x-python",
   "name": "python",
   "nbconvert_exporter": "python",
   "pygments_lexer": "ipython2",
   "version": "2.7.6"
  }
 },
 "nbformat": 4,
 "nbformat_minor": 0
}